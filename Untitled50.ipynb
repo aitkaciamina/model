{
 "cells": [
  {
   "cell_type": "code",
   "execution_count": 1,
   "id": "fc542bdd",
   "metadata": {},
   "outputs": [],
   "source": [
    "import pandas as pd\n",
    "import numpy as np"
   ]
  },
  {
   "cell_type": "code",
   "execution_count": 2,
   "id": "e76bb077",
   "metadata": {},
   "outputs": [],
   "source": [
    "df =pd.read_csv('worldwide internet prices in 2022 - IN 2022.csv')"
   ]
  },
  {
   "cell_type": "code",
   "execution_count": 3,
   "id": "8e0bcd20",
   "metadata": {},
   "outputs": [
    {
     "data": {
      "text/html": [
       "<div>\n",
       "<style scoped>\n",
       "    .dataframe tbody tr th:only-of-type {\n",
       "        vertical-align: middle;\n",
       "    }\n",
       "\n",
       "    .dataframe tbody tr th {\n",
       "        vertical-align: top;\n",
       "    }\n",
       "\n",
       "    .dataframe thead th {\n",
       "        text-align: right;\n",
       "    }\n",
       "</style>\n",
       "<table border=\"1\" class=\"dataframe\">\n",
       "  <thead>\n",
       "    <tr style=\"text-align: right;\">\n",
       "      <th></th>\n",
       "      <th>Country code</th>\n",
       "      <th>Name</th>\n",
       "      <th>Continental region</th>\n",
       "      <th>NO. OF Internet Plans</th>\n",
       "      <th>Average price of 1GB (USD)</th>\n",
       "      <th>Cheapest 1GB for 30 days (USD)</th>\n",
       "      <th>Most expensive 1GB (USD)</th>\n",
       "      <th>Average price of 1GB (USD  at the start of 2021)</th>\n",
       "      <th>Average price of 1GB (USD – at start of 2020)</th>\n",
       "    </tr>\n",
       "  </thead>\n",
       "  <tbody>\n",
       "    <tr>\n",
       "      <th>0</th>\n",
       "      <td>IL</td>\n",
       "      <td>Israel</td>\n",
       "      <td>NEAR EAST</td>\n",
       "      <td>27.0</td>\n",
       "      <td>$0.05</td>\n",
       "      <td>$0.02</td>\n",
       "      <td>$20.95</td>\n",
       "      <td>$0.11</td>\n",
       "      <td>$0.90</td>\n",
       "    </tr>\n",
       "    <tr>\n",
       "      <th>1</th>\n",
       "      <td>KG</td>\n",
       "      <td>Kyrgyzstan</td>\n",
       "      <td>CIS (FORMER USSR)</td>\n",
       "      <td>20.0</td>\n",
       "      <td>$0.15</td>\n",
       "      <td>$0.10</td>\n",
       "      <td>$7.08</td>\n",
       "      <td>$0.21</td>\n",
       "      <td>$0.27</td>\n",
       "    </tr>\n",
       "    <tr>\n",
       "      <th>2</th>\n",
       "      <td>FJ</td>\n",
       "      <td>Fiji</td>\n",
       "      <td>OCEANIA</td>\n",
       "      <td>18.0</td>\n",
       "      <td>$0.19</td>\n",
       "      <td>$0.05</td>\n",
       "      <td>$0.85</td>\n",
       "      <td>$0.59</td>\n",
       "      <td>$3.57</td>\n",
       "    </tr>\n",
       "    <tr>\n",
       "      <th>3</th>\n",
       "      <td>IT</td>\n",
       "      <td>Italy</td>\n",
       "      <td>WESTERN EUROPE</td>\n",
       "      <td>29.0</td>\n",
       "      <td>$0.27</td>\n",
       "      <td>$0.09</td>\n",
       "      <td>$3.54</td>\n",
       "      <td>$0.43</td>\n",
       "      <td>$1.73</td>\n",
       "    </tr>\n",
       "    <tr>\n",
       "      <th>4</th>\n",
       "      <td>SD</td>\n",
       "      <td>Sudan</td>\n",
       "      <td>SUB-SAHARAN AFRICA</td>\n",
       "      <td>33.0</td>\n",
       "      <td>$0.27</td>\n",
       "      <td>$0.03</td>\n",
       "      <td>$0.92</td>\n",
       "      <td>$0.63</td>\n",
       "      <td>$0.68</td>\n",
       "    </tr>\n",
       "  </tbody>\n",
       "</table>\n",
       "</div>"
      ],
      "text/plain": [
       "  Country code        Name  Continental region  NO. OF Internet Plans   \\\n",
       "0           IL      Israel           NEAR EAST                    27.0   \n",
       "1           KG  Kyrgyzstan   CIS (FORMER USSR)                    20.0   \n",
       "2           FJ        Fiji             OCEANIA                    18.0   \n",
       "3           IT       Italy      WESTERN EUROPE                    29.0   \n",
       "4           SD       Sudan  SUB-SAHARAN AFRICA                    33.0   \n",
       "\n",
       "  Average price of 1GB (USD) Cheapest 1GB for 30 days (USD)  \\\n",
       "0                      $0.05                          $0.02   \n",
       "1                      $0.15                          $0.10   \n",
       "2                      $0.19                          $0.05   \n",
       "3                      $0.27                          $0.09   \n",
       "4                      $0.27                          $0.03   \n",
       "\n",
       "  Most expensive 1GB (USD) Average price of 1GB (USD  at the start of 2021)  \\\n",
       "0                   $20.95                                            $0.11   \n",
       "1                    $7.08                                            $0.21   \n",
       "2                    $0.85                                            $0.59   \n",
       "3                    $3.54                                            $0.43   \n",
       "4                    $0.92                                            $0.63   \n",
       "\n",
       "  Average price of 1GB (USD – at start of 2020)  \n",
       "0                                         $0.90  \n",
       "1                                         $0.27  \n",
       "2                                         $3.57  \n",
       "3                                         $1.73  \n",
       "4                                         $0.68  "
      ]
     },
     "execution_count": 3,
     "metadata": {},
     "output_type": "execute_result"
    }
   ],
   "source": [
    "df.head()"
   ]
  },
  {
   "cell_type": "code",
   "execution_count": 4,
   "id": "0b0628f3",
   "metadata": {},
   "outputs": [
    {
     "data": {
      "text/plain": [
       "Index(['Country code', 'Name', 'Continental region', 'NO. OF Internet Plans ',\n",
       "       'Average price of 1GB (USD)', 'Cheapest 1GB for 30 days (USD)',\n",
       "       'Most expensive 1GB (USD)',\n",
       "       'Average price of 1GB (USD  at the start of 2021)',\n",
       "       'Average price of 1GB (USD – at start of 2020)'],\n",
       "      dtype='object')"
      ]
     },
     "execution_count": 4,
     "metadata": {},
     "output_type": "execute_result"
    }
   ],
   "source": [
    "df.columns"
   ]
  },
  {
   "cell_type": "code",
   "execution_count": 5,
   "id": "3da82b51",
   "metadata": {},
   "outputs": [
    {
     "data": {
      "text/plain": [
       "Country code                                         1\n",
       "Name                                                 0\n",
       "Continental region                                   0\n",
       "NO. OF Internet Plans                               12\n",
       "Average price of 1GB (USD)                           0\n",
       "Cheapest 1GB for 30 days (USD)                      12\n",
       "Most expensive 1GB (USD)                            12\n",
       "Average price of 1GB (USD  at the start of 2021)    12\n",
       "Average price of 1GB (USD – at start of 2020)       12\n",
       "dtype: int64"
      ]
     },
     "execution_count": 5,
     "metadata": {},
     "output_type": "execute_result"
    }
   ],
   "source": [
    "df.isnull().sum()"
   ]
  },
  {
   "cell_type": "code",
   "execution_count": 18,
   "id": "76d7aeff",
   "metadata": {},
   "outputs": [
    {
     "name": "stdout",
     "output_type": "stream",
     "text": [
      "<class 'pandas.core.frame.DataFrame'>\n",
      "RangeIndex: 242 entries, 0 to 241\n",
      "Data columns (total 9 columns):\n",
      " #   Column                                            Non-Null Count  Dtype  \n",
      "---  ------                                            --------------  -----  \n",
      " 0   Country code                                      241 non-null    object \n",
      " 1   Name                                              242 non-null    object \n",
      " 2   Continental region                                242 non-null    object \n",
      " 3   NO. OF Internet Plans                             242 non-null    float64\n",
      " 4   Average price of 1GB (USD)                        242 non-null    object \n",
      " 5   Cheapest 1GB for 30 days (USD)                    242 non-null    float64\n",
      " 6   Most expensive 1GB (USD)                          242 non-null    float64\n",
      " 7   Average price of 1GB (USD  at the start of 2021)  242 non-null    float64\n",
      " 8   Average price of 1GB (USD – at start of 2020)     242 non-null    float64\n",
      "dtypes: float64(5), object(4)\n",
      "memory usage: 17.1+ KB\n"
     ]
    }
   ],
   "source": [
    "df.info()"
   ]
  },
  {
   "cell_type": "markdown",
   "id": "87588840",
   "metadata": {},
   "source": [
    "# filling the missing values"
   ]
  },
  {
   "cell_type": "code",
   "execution_count": 19,
   "id": "e5fb6744",
   "metadata": {},
   "outputs": [],
   "source": [
    "mean_value=df['NO. OF Internet Plans '].mean()\n",
    "df['NO. OF Internet Plans '].fillna(value=mean_value, inplace=True)"
   ]
  },
  {
   "cell_type": "code",
   "execution_count": 20,
   "id": "1179aaf9",
   "metadata": {},
   "outputs": [],
   "source": [
    "df['Average price of 1GB (USD – at start of 2020)'] = df['Average price of 1GB (USD – at start of 2020)'].replace({r'\\$':''}, regex = True)\n",
    "df['Average price of 1GB (USD – at start of 2020)'] = pd.to_numeric(df['Average price of 1GB (USD – at start of 2020)'],errors = 'coerce')\n",
    "median_value=df['Average price of 1GB (USD – at start of 2020)'].median()\n",
    "df['Average price of 1GB (USD – at start of 2020)'].fillna(value=median_value, inplace=True)"
   ]
  },
  {
   "cell_type": "code",
   "execution_count": 21,
   "id": "1b02c832",
   "metadata": {},
   "outputs": [],
   "source": [
    "df['Cheapest 1GB for 30 days (USD)'] = df['Cheapest 1GB for 30 days (USD)'].replace({r'\\$':''}, regex = True)\n",
    "df['Cheapest 1GB for 30 days (USD)'] = pd.to_numeric(df['Cheapest 1GB for 30 days (USD)'],errors = 'coerce')\n",
    "median_value=df['Cheapest 1GB for 30 days (USD)'].median()\n",
    "df['Cheapest 1GB for 30 days (USD)'].fillna(value=median_value, inplace=True)"
   ]
  },
  {
   "cell_type": "code",
   "execution_count": 22,
   "id": "b93a3803",
   "metadata": {},
   "outputs": [],
   "source": [
    "df['Most expensive 1GB (USD)'] = df['Most expensive 1GB (USD)'].replace({r'\\$':''}, regex = True)\n",
    "df['Most expensive 1GB (USD)'] = pd.to_numeric(df['Most expensive 1GB (USD)'],errors = 'coerce')\n",
    "median_value=df['Most expensive 1GB (USD)'].median()\n",
    "df['Most expensive 1GB (USD)'].fillna(value=median_value, inplace=True)"
   ]
  },
  {
   "cell_type": "code",
   "execution_count": 23,
   "id": "53f0ed75",
   "metadata": {},
   "outputs": [],
   "source": [
    "df['Average price of 1GB (USD  at the start of 2021)'] = df['Average price of 1GB (USD  at the start of 2021)'].replace({r'\\$':''}, regex = True)\n",
    "df['Average price of 1GB (USD  at the start of 2021)'] = pd.to_numeric(df['Average price of 1GB (USD  at the start of 2021)'],errors = 'coerce')\n",
    "median_value=df['Average price of 1GB (USD  at the start of 2021)'].median()\n",
    "df['Average price of 1GB (USD  at the start of 2021)'].fillna(value=median_value, inplace=True)"
   ]
  },
  {
   "cell_type": "code",
   "execution_count": 24,
   "id": "8b1eef72",
   "metadata": {},
   "outputs": [],
   "source": [
    "df['Average price of 1GB (USD)'] = df['Average price of 1GB (USD)'].replace({r'\\$':''}, regex = True)\n",
    "df['Average price of 1GB (USD)'] = pd.to_numeric(df['Average price of 1GB (USD)'],errors = 'coerce')\n",
    "median_value=df['Average price of 1GB (USD)'].median()\n",
    "df['Average price of 1GB (USD)'].fillna(value=median_value, inplace=True)"
   ]
  },
  {
   "cell_type": "markdown",
   "id": "c28bc03c",
   "metadata": {},
   "source": [
    "# drawing the plots"
   ]
  },
  {
   "cell_type": "code",
   "execution_count": 25,
   "id": "78766301",
   "metadata": {},
   "outputs": [
    {
     "data": {
      "text/plain": [
       "<AxesSubplot:xlabel='NO. OF Internet Plans ', ylabel='Average price of 1GB (USD – at start of 2020)'>"
      ]
     },
     "execution_count": 25,
     "metadata": {},
     "output_type": "execute_result"
    },
    {
     "data": {
      "image/png": "[encoded data removed]",
      "text/plain": [
       "<Figure size 432x288 with 1 Axes>"
      ]
     },
     "metadata": {
      "needs_background": "light"
     },
     "output_type": "display_data"
    }
   ],
   "source": [
    "import matplotlib as plt\n",
    "import pandas as pd\n",
    "df.plot.scatter(x='NO. OF Internet Plans ',y='Average price of 1GB (USD – at start of 2020)',colormap='viridis')"
   ]
  },
  {
   "cell_type": "code",
   "execution_count": 26,
   "id": "f7e6b691",
   "metadata": {},
   "outputs": [
    {
     "data": {
      "text/plain": [
       "<AxesSubplot:xlabel='Cheapest 1GB for 30 days (USD)', ylabel='Average price of 1GB (USD – at start of 2020)'>"
      ]
     },
     "execution_count": 26,
     "metadata": {},
     "output_type": "execute_result"
    },
    {
     "data": {
      "image/png": "[encoded data removed]",
      "text/plain": [
       "<Figure size 432x288 with 1 Axes>"
      ]
     },
     "metadata": {
      "needs_background": "light"
     },
     "output_type": "display_data"
    }
   ],
   "source": [
    "import matplotlib as plt\n",
    "import pandas as pd\n",
    "df.plot.scatter(x='Cheapest 1GB for 30 days (USD)',y='Average price of 1GB (USD – at start of 2020)',colormap='viridis')"
   ]
  },
  {
   "cell_type": "code",
   "execution_count": 27,
   "id": "7312282d",
   "metadata": {},
   "outputs": [
    {
     "data": {
      "text/plain": [
       "<AxesSubplot:xlabel='Most expensive 1GB (USD)', ylabel='Average price of 1GB (USD – at start of 2020)'>"
      ]
     },
     "execution_count": 27,
     "metadata": {},
     "output_type": "execute_result"
    },
    {
     "data": {
      "image/png": "[encoded data removed]",
      "text/plain": [
       "<Figure size 432x288 with 1 Axes>"
      ]
     },
     "metadata": {
      "needs_background": "light"
     },
     "output_type": "display_data"
    }
   ],
   "source": [
    "import matplotlib as plt\n",
    "import pandas as pd\n",
    "df.plot.scatter(x='Most expensive 1GB (USD)',y='Average price of 1GB (USD – at start of 2020)',colormap='viridis')"
   ]
  },
  {
   "cell_type": "markdown",
   "id": "f3388449",
   "metadata": {},
   "source": [
    "# the regression "
   ]
  },
  {
   "cell_type": "code",
   "execution_count": 28,
   "id": "d1b373a1",
   "metadata": {},
   "outputs": [],
   "source": [
    "x=df[['NO. OF Internet Plans ','Cheapest 1GB for 30 days (USD)','Most expensive 1GB (USD)','Average price of 1GB (USD)','Average price of 1GB (USD – at start of 2020)']]"
   ]
  },
  {
   "cell_type": "code",
   "execution_count": 29,
   "id": "85e2c5c6",
   "metadata": {},
   "outputs": [],
   "source": [
    "y = df['Average price of 1GB (USD  at the start of 2021)']"
   ]
  },
  {
   "cell_type": "code",
   "execution_count": 30,
   "id": "04aaf038",
   "metadata": {},
   "outputs": [],
   "source": [
    "from sklearn.preprocessing import PolynomialFeatures\n",
    "from sklearn.linear_model import LinearRegression "
   ]
  },
  {
   "cell_type": "code",
   "execution_count": 31,
   "id": "2da6d647",
   "metadata": {},
   "outputs": [
    {
     "data": {
      "text/plain": [
       "0.9994819184665109"
      ]
     },
     "execution_count": 31,
     "metadata": {},
     "output_type": "execute_result"
    }
   ],
   "source": [
    "poly=PolynomialFeatures(degree=6)\n",
    "p_x=poly.fit_transform(x)\n",
    "m=LinearRegression()\n",
    "m.fit(p_x,y)\n",
    "m.score(p_x,y)"
   ]
  },
  {
   "cell_type": "code",
   "execution_count": null,
   "id": "2155322c",
   "metadata": {},
   "outputs": [],
   "source": []
  }
 ],
 "metadata": {
  "kernelspec": {
   "display_name": "Python 3 (ipykernel)",
   "language": "python",
   "name": "python3"
  },
  "language_info": {
   "codemirror_mode": {
    "name": "ipython",
    "version": 3
   },
   "file_extension": ".py",
   "mimetype": "text/x-python",
   "name": "python",
   "nbconvert_exporter": "python",
   "pygments_lexer": "ipython3",
   "version": "3.9.7"
  }
 },
 "nbformat": 4,
 "nbformat_minor": 5
}
